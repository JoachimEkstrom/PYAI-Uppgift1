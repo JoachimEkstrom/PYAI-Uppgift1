{
 "cells": [
  {
   "cell_type": "markdown",
   "metadata": {},
   "source": [
    "# Uppgift 1 - Pythonprogrammering med AI\n",
    "\n",
    "Jag har valt att jobba med ett dataset som innehåller vilka begagnat bilar som är till salu i Storbritanninen. \\\n",
    "Detta dataset hittade jag på Kaggle och andledningen till att jag valde det är att jag tycker att bilar kan vara \n",
    "kul men framförallt att det var en lagom storlek på datasettet; inte för litet och inte så stort att det blir otympligt för denna labb.  "
   ]
  },
  {
   "cell_type": "code",
   "execution_count": 2,
   "metadata": {},
   "outputs": [],
   "source": [
    "import pandas as pd\n",
    "import numpy as np"
   ]
  },
  {
   "cell_type": "markdown",
   "metadata": {},
   "source": [
    "Jag börjar med att importera pandas för att hantera min data och numpy for att få lite mer datatyper att jobba med."
   ]
  },
  {
   "cell_type": "markdown",
   "metadata": {},
   "source": [
    "Jag läser sedan in mitt dataset som jag laddade ner. Det är cirka 350MB stort när det är okomprimerat men eftersom pandas kan läsa in zip-filer så väljer jag att göra det. Filstorleken sjunker då till ca: 42MB vilket är lite smidigare att hantera.\\\n",
    "\\\n",
    "Efter jag läst in filen kollar jag på de första 5 raderna för att få en inblick i hur mitt data sett ser ut. "
   ]
  },
  {
   "cell_type": "code",
   "execution_count": 3,
   "metadata": {},
   "outputs": [
    {
     "data": {
      "text/html": [
       "<div>\n",
       "<style scoped>\n",
       "    .dataframe tbody tr th:only-of-type {\n",
       "        vertical-align: middle;\n",
       "    }\n",
       "\n",
       "    .dataframe tbody tr th {\n",
       "        vertical-align: top;\n",
       "    }\n",
       "\n",
       "    .dataframe thead th {\n",
       "        text-align: right;\n",
       "    }\n",
       "</style>\n",
       "<table border=\"1\" class=\"dataframe\">\n",
       "  <thead>\n",
       "    <tr style=\"text-align: right;\">\n",
       "      <th></th>\n",
       "      <th>make</th>\n",
       "      <th>model</th>\n",
       "      <th>variant</th>\n",
       "      <th>car_price</th>\n",
       "      <th>car_badges</th>\n",
       "      <th>car_title</th>\n",
       "      <th>car_sub_title</th>\n",
       "      <th>car_attention_grabber</th>\n",
       "      <th>car_specs</th>\n",
       "      <th>car_seller</th>\n",
       "      <th>...</th>\n",
       "      <th>num_owner</th>\n",
       "      <th>ulez</th>\n",
       "      <th>full_service</th>\n",
       "      <th>part_service</th>\n",
       "      <th>part_warranty</th>\n",
       "      <th>full_dealership</th>\n",
       "      <th>first_year_road_tax</th>\n",
       "      <th>brand_new</th>\n",
       "      <th>finance_available</th>\n",
       "      <th>discounted</th>\n",
       "    </tr>\n",
       "  </thead>\n",
       "  <tbody>\n",
       "    <tr>\n",
       "      <th>0</th>\n",
       "      <td>AC</td>\n",
       "      <td>Cobra</td>\n",
       "      <td>NaN</td>\n",
       "      <td>89995.0</td>\n",
       "      <td>NaN</td>\n",
       "      <td>AC Cobra</td>\n",
       "      <td>4.9 MK IV CRS 2dr</td>\n",
       "      <td>GENUINE AC COBRA CRS 522 BHP</td>\n",
       "      <td>2001 (X reg), Convertible, 14,400 miles, 4.9L,...</td>\n",
       "      <td>Private seller</td>\n",
       "      <td>...</td>\n",
       "      <td>5.0</td>\n",
       "      <td>0</td>\n",
       "      <td>0</td>\n",
       "      <td>0</td>\n",
       "      <td>0</td>\n",
       "      <td>0</td>\n",
       "      <td>0</td>\n",
       "      <td>0</td>\n",
       "      <td>0</td>\n",
       "      <td>0</td>\n",
       "    </tr>\n",
       "    <tr>\n",
       "      <th>1</th>\n",
       "      <td>AC</td>\n",
       "      <td>Cobra</td>\n",
       "      <td>NaN</td>\n",
       "      <td>89995.0</td>\n",
       "      <td>NaN</td>\n",
       "      <td>AC Cobra</td>\n",
       "      <td>4.9 MK IV CRS 2dr</td>\n",
       "      <td>GENUINE AC COBRA CRS 522 BHP</td>\n",
       "      <td>2001 (X reg), Convertible, 14,400 miles, 4.9L,...</td>\n",
       "      <td>Private seller</td>\n",
       "      <td>...</td>\n",
       "      <td>5.0</td>\n",
       "      <td>0</td>\n",
       "      <td>0</td>\n",
       "      <td>0</td>\n",
       "      <td>0</td>\n",
       "      <td>0</td>\n",
       "      <td>0</td>\n",
       "      <td>0</td>\n",
       "      <td>0</td>\n",
       "      <td>0</td>\n",
       "    </tr>\n",
       "    <tr>\n",
       "      <th>2</th>\n",
       "      <td>AC</td>\n",
       "      <td>Cobra</td>\n",
       "      <td>NaN</td>\n",
       "      <td>92500.0</td>\n",
       "      <td>''</td>\n",
       "      <td>AC Cobra</td>\n",
       "      <td>378 - MkIV</td>\n",
       "      <td>PHYSICAL CAR!</td>\n",
       "      <td>2019 (T reg), Convertible, 650 miles, Manual, ...</td>\n",
       "      <td>Boss Motor Company Limited</td>\n",
       "      <td>...</td>\n",
       "      <td>NaN</td>\n",
       "      <td>0</td>\n",
       "      <td>0</td>\n",
       "      <td>0</td>\n",
       "      <td>0</td>\n",
       "      <td>0</td>\n",
       "      <td>0</td>\n",
       "      <td>0</td>\n",
       "      <td>0</td>\n",
       "      <td>0</td>\n",
       "    </tr>\n",
       "    <tr>\n",
       "      <th>3</th>\n",
       "      <td>AC</td>\n",
       "      <td>Cobra</td>\n",
       "      <td>NaN</td>\n",
       "      <td>92500.0</td>\n",
       "      <td>''</td>\n",
       "      <td>AC Cobra</td>\n",
       "      <td>378 - MkIV</td>\n",
       "      <td>PHYSICAL CAR!</td>\n",
       "      <td>2019 (T reg), Convertible, 650 miles, Manual, ...</td>\n",
       "      <td>Boss Motor Company Limited</td>\n",
       "      <td>...</td>\n",
       "      <td>NaN</td>\n",
       "      <td>0</td>\n",
       "      <td>0</td>\n",
       "      <td>0</td>\n",
       "      <td>0</td>\n",
       "      <td>0</td>\n",
       "      <td>0</td>\n",
       "      <td>0</td>\n",
       "      <td>0</td>\n",
       "      <td>0</td>\n",
       "    </tr>\n",
       "    <tr>\n",
       "      <th>4</th>\n",
       "      <td>AC</td>\n",
       "      <td>Cobra</td>\n",
       "      <td>NaN</td>\n",
       "      <td>109995.0</td>\n",
       "      <td>''</td>\n",
       "      <td>AC Cobra</td>\n",
       "      <td>MK1V 212 SC. 3.5 V8 350 BHP LOTUS TWIN TURBO. ...</td>\n",
       "      <td>FULL CARBON FIBRE BODY.</td>\n",
       "      <td>2000 (X reg), Convertible, 21,600 miles, 3.5L,...</td>\n",
       "      <td>PREMIER GT LIMITED</td>\n",
       "      <td>...</td>\n",
       "      <td>3.0</td>\n",
       "      <td>0</td>\n",
       "      <td>0</td>\n",
       "      <td>0</td>\n",
       "      <td>0</td>\n",
       "      <td>0</td>\n",
       "      <td>0</td>\n",
       "      <td>0</td>\n",
       "      <td>0</td>\n",
       "      <td>0</td>\n",
       "    </tr>\n",
       "  </tbody>\n",
       "</table>\n",
       "<p>5 rows × 31 columns</p>\n",
       "</div>"
      ],
      "text/plain": [
       "  make  model variant  car_price car_badges car_title  \\\n",
       "0   AC  Cobra     NaN    89995.0        NaN  AC Cobra   \n",
       "1   AC  Cobra     NaN    89995.0        NaN  AC Cobra   \n",
       "2   AC  Cobra     NaN    92500.0         ''  AC Cobra   \n",
       "3   AC  Cobra     NaN    92500.0         ''  AC Cobra   \n",
       "4   AC  Cobra     NaN   109995.0         ''  AC Cobra   \n",
       "\n",
       "                                       car_sub_title  \\\n",
       "0                                  4.9 MK IV CRS 2dr   \n",
       "1                                  4.9 MK IV CRS 2dr   \n",
       "2                                         378 - MkIV   \n",
       "3                                         378 - MkIV   \n",
       "4  MK1V 212 SC. 3.5 V8 350 BHP LOTUS TWIN TURBO. ...   \n",
       "\n",
       "          car_attention_grabber  \\\n",
       "0  GENUINE AC COBRA CRS 522 BHP   \n",
       "1  GENUINE AC COBRA CRS 522 BHP   \n",
       "2                 PHYSICAL CAR!   \n",
       "3                 PHYSICAL CAR!   \n",
       "4       FULL CARBON FIBRE BODY.   \n",
       "\n",
       "                                           car_specs  \\\n",
       "0  2001 (X reg), Convertible, 14,400 miles, 4.9L,...   \n",
       "1  2001 (X reg), Convertible, 14,400 miles, 4.9L,...   \n",
       "2  2019 (T reg), Convertible, 650 miles, Manual, ...   \n",
       "3  2019 (T reg), Convertible, 650 miles, Manual, ...   \n",
       "4  2000 (X reg), Convertible, 21,600 miles, 3.5L,...   \n",
       "\n",
       "                   car_seller  ...  num_owner ulez full_service part_service  \\\n",
       "0              Private seller  ...        5.0    0            0            0   \n",
       "1              Private seller  ...        5.0    0            0            0   \n",
       "2  Boss Motor Company Limited  ...        NaN    0            0            0   \n",
       "3  Boss Motor Company Limited  ...        NaN    0            0            0   \n",
       "4          PREMIER GT LIMITED  ...        3.0    0            0            0   \n",
       "\n",
       "  part_warranty  full_dealership  first_year_road_tax  brand_new  \\\n",
       "0             0                0                    0          0   \n",
       "1             0                0                    0          0   \n",
       "2             0                0                    0          0   \n",
       "3             0                0                    0          0   \n",
       "4             0                0                    0          0   \n",
       "\n",
       "  finance_available discounted  \n",
       "0                 0          0  \n",
       "1                 0          0  \n",
       "2                 0          0  \n",
       "3                 0          0  \n",
       "4                 0          0  \n",
       "\n",
       "[5 rows x 31 columns]"
      ]
     },
     "execution_count": 3,
     "metadata": {},
     "output_type": "execute_result"
    }
   ],
   "source": [
    "allCars = pd.read_csv('./dataset/all_car_adverts.csv.zip')\n",
    "allCars.head()"
   ]
  },
  {
   "cell_type": "markdown",
   "metadata": {},
   "source": [
    "Det visar sig att jag har 31(!) kolumner att jobba med. Detta är mer än vad som Visual Studio Code visar i bredd. För att istället bara visa vilka kolumner som finns kan jag köra kommandot \\\n",
    "allcars.columns -- Detta retunerar namnet på alla kolummner.  "
   ]
  },
  {
   "cell_type": "code",
   "execution_count": 4,
   "metadata": {},
   "outputs": [
    {
     "data": {
      "text/plain": [
       "Index(['make', 'model', 'variant', 'car_price', 'car_badges', 'car_title',\n",
       "       'car_sub_title', 'car_attention_grabber', 'car_specs', 'car_seller',\n",
       "       'car_seller_rating', 'car_seller_location', 'year', 'reg', 'body_type',\n",
       "       'miles', 'engine_vol', 'engine_size', 'engine_size_unit',\n",
       "       'transmission', 'feul_type', 'num_owner', 'ulez', 'full_service',\n",
       "       'part_service', 'part_warranty', 'full_dealership',\n",
       "       'first_year_road_tax', 'brand_new', 'finance_available', 'discounted'],\n",
       "      dtype='object')"
      ]
     },
     "execution_count": 4,
     "metadata": {},
     "output_type": "execute_result"
    }
   ],
   "source": [
    "allCars.columns"
   ]
  },
  {
   "cell_type": "markdown",
   "metadata": {},
   "source": [
    "Efter att jag kollat på de kolumnerna som finns så har jag valt ut några enligt följande:\n",
    "1. 'make' - Vilket märke på bilen det är \n",
    "2. 'model' - Vilket modell det är\n",
    "3. 'variant' - Om det är ytterliggare någon mer benämning på bilen. \n",
    "4. 'car_price' - Priset är ju alltid intressant.\n",
    "5. 'car_title' - Ett kombinerat namn på både bil modell och variant. Ibland ifyllt och ibland inte...\n",
    "6. 'car_specs' - Information om bilen i stort, tex om det är en bensin motor eller diesel. \n",
    "7. 'car_seller' - Om det är en privat säljare eller om det är ett företag. \n",
    "8. 'full_service' - Om bilen är fullservad eller inte. "
   ]
  },
  {
   "cell_type": "code",
   "execution_count": 5,
   "metadata": {},
   "outputs": [
    {
     "name": "stdout",
     "output_type": "stream",
     "text": [
      "AC\n",
      "Cobra\n",
      "nan\n",
      "89995.0\n",
      "AC Cobra\n",
      "2001 (X reg), Convertible, 14,400 miles, 4.9L, 225BHP, Manual, Petrol, 5 owners\n",
      "Private seller\n",
      "0\n"
     ]
    }
   ],
   "source": [
    "print(allCars[\"make\"][1])\n",
    "print(allCars[\"model\"][1])\n",
    "print(allCars[\"variant\"][1])\n",
    "print(allCars[\"car_price\"][1])\n",
    "print(allCars[\"car_title\"][1])\n",
    "print(allCars[\"car_specs\"][1])\n",
    "print(allCars[\"car_seller\"][1])\n",
    "print(allCars[\"full_service\"][1])"
   ]
  },
  {
   "cell_type": "markdown",
   "metadata": {},
   "source": [
    "Den data jag får ut här känns helt ok. Jag noterar att alla kolumner inte alltid är ifyllda och att jag måste hantera detta när jag senare skall börja använda datan. \\\n",
    "Jag ser också att \"car_specs\" är en String bestående av ett flertal data. Dessa måste splittas i egna kolumner för att bli lättare att jobba med. \\\n",
    "Datan i \"car_specs\" finns också redan färdig i egna kolumner men då jag vill lära mig att mer om hur jag kan jobba med Strings osv så väljer jag medvetet bort de kolumnerna. "
   ]
  },
  {
   "cell_type": "code",
   "execution_count": 6,
   "metadata": {},
   "outputs": [
    {
     "name": "stdout",
     "output_type": "stream",
     "text": [
      "['2001 (X reg)', 'Convertible', '14,400 miles', '4.9L', '225BHP', 'Manual', 'Petrol', '5 owners']\n",
      "Body Type: Convertible\n"
     ]
    }
   ],
   "source": [
    "specs = allCars[\"car_specs\"][1].split(\", \")\n",
    "print(specs)\n",
    "print(\"Body Type: \" + specs[1])"
   ]
  },
  {
   "cell_type": "markdown",
   "metadata": {},
   "source": [
    "Då jag kan JavaScript så gissade jag lite på hur jag kan dela upp en String, visade sig att det fungerar på samma sätt i Python. Trevligt! \\\n",
    "\\\n",
    "Då jag nu vet vad jag vill ha för data så vill jag skrota all den data jag inte skall använda, dels för att det är lättare att hantera men också för att spara minne och processorkraft. \\\n",
    "Jag väljar att skapa mig ett nytt dataframe dit jag kopierar de kolumner jag vill spara och därefter tar jag bort det gamla dataframet. "
   ]
  },
  {
   "cell_type": "code",
   "execution_count": 7,
   "metadata": {},
   "outputs": [
    {
     "data": {
      "text/html": [
       "<div>\n",
       "<style scoped>\n",
       "    .dataframe tbody tr th:only-of-type {\n",
       "        vertical-align: middle;\n",
       "    }\n",
       "\n",
       "    .dataframe tbody tr th {\n",
       "        vertical-align: top;\n",
       "    }\n",
       "\n",
       "    .dataframe thead th {\n",
       "        text-align: right;\n",
       "    }\n",
       "</style>\n",
       "<table border=\"1\" class=\"dataframe\">\n",
       "  <thead>\n",
       "    <tr style=\"text-align: right;\">\n",
       "      <th></th>\n",
       "      <th>make</th>\n",
       "      <th>model</th>\n",
       "      <th>variant</th>\n",
       "      <th>car_price</th>\n",
       "      <th>car_title</th>\n",
       "      <th>car_specs</th>\n",
       "      <th>car_seller</th>\n",
       "      <th>full_service</th>\n",
       "    </tr>\n",
       "  </thead>\n",
       "  <tbody>\n",
       "    <tr>\n",
       "      <th>0</th>\n",
       "      <td>AC</td>\n",
       "      <td>Cobra</td>\n",
       "      <td>NaN</td>\n",
       "      <td>89995.0</td>\n",
       "      <td>AC Cobra</td>\n",
       "      <td>2001 (X reg), Convertible, 14,400 miles, 4.9L,...</td>\n",
       "      <td>Private seller</td>\n",
       "      <td>0</td>\n",
       "    </tr>\n",
       "    <tr>\n",
       "      <th>1</th>\n",
       "      <td>AC</td>\n",
       "      <td>Cobra</td>\n",
       "      <td>NaN</td>\n",
       "      <td>89995.0</td>\n",
       "      <td>AC Cobra</td>\n",
       "      <td>2001 (X reg), Convertible, 14,400 miles, 4.9L,...</td>\n",
       "      <td>Private seller</td>\n",
       "      <td>0</td>\n",
       "    </tr>\n",
       "    <tr>\n",
       "      <th>2</th>\n",
       "      <td>AC</td>\n",
       "      <td>Cobra</td>\n",
       "      <td>NaN</td>\n",
       "      <td>92500.0</td>\n",
       "      <td>AC Cobra</td>\n",
       "      <td>2019 (T reg), Convertible, 650 miles, Manual, ...</td>\n",
       "      <td>Boss Motor Company Limited</td>\n",
       "      <td>0</td>\n",
       "    </tr>\n",
       "    <tr>\n",
       "      <th>3</th>\n",
       "      <td>AC</td>\n",
       "      <td>Cobra</td>\n",
       "      <td>NaN</td>\n",
       "      <td>92500.0</td>\n",
       "      <td>AC Cobra</td>\n",
       "      <td>2019 (T reg), Convertible, 650 miles, Manual, ...</td>\n",
       "      <td>Boss Motor Company Limited</td>\n",
       "      <td>0</td>\n",
       "    </tr>\n",
       "    <tr>\n",
       "      <th>4</th>\n",
       "      <td>AC</td>\n",
       "      <td>Cobra</td>\n",
       "      <td>NaN</td>\n",
       "      <td>109995.0</td>\n",
       "      <td>AC Cobra</td>\n",
       "      <td>2000 (X reg), Convertible, 21,600 miles, 3.5L,...</td>\n",
       "      <td>PREMIER GT LIMITED</td>\n",
       "      <td>0</td>\n",
       "    </tr>\n",
       "  </tbody>\n",
       "</table>\n",
       "</div>"
      ],
      "text/plain": [
       "  make  model variant  car_price car_title  \\\n",
       "0   AC  Cobra     NaN    89995.0  AC Cobra   \n",
       "1   AC  Cobra     NaN    89995.0  AC Cobra   \n",
       "2   AC  Cobra     NaN    92500.0  AC Cobra   \n",
       "3   AC  Cobra     NaN    92500.0  AC Cobra   \n",
       "4   AC  Cobra     NaN   109995.0  AC Cobra   \n",
       "\n",
       "                                           car_specs  \\\n",
       "0  2001 (X reg), Convertible, 14,400 miles, 4.9L,...   \n",
       "1  2001 (X reg), Convertible, 14,400 miles, 4.9L,...   \n",
       "2  2019 (T reg), Convertible, 650 miles, Manual, ...   \n",
       "3  2019 (T reg), Convertible, 650 miles, Manual, ...   \n",
       "4  2000 (X reg), Convertible, 21,600 miles, 3.5L,...   \n",
       "\n",
       "                   car_seller  full_service  \n",
       "0              Private seller             0  \n",
       "1              Private seller             0  \n",
       "2  Boss Motor Company Limited             0  \n",
       "3  Boss Motor Company Limited             0  \n",
       "4          PREMIER GT LIMITED             0  "
      ]
     },
     "execution_count": 7,
     "metadata": {},
     "output_type": "execute_result"
    }
   ],
   "source": [
    "carData = allCars[[\"make\",\"model\", \"variant\", \"car_price\", \"car_title\", \"car_specs\", \"car_seller\", \"full_service\"]].copy()\n",
    "\n",
    "del allCars # del -> Delete  : Ta bort den gamla filen.\n",
    "\n",
    "carData.head()"
   ]
  },
  {
   "cell_type": "markdown",
   "metadata": {},
   "source": [
    "Nu ser det betydligt bättre ut. Mitt nästa steg är att försöka få car_specs att bli ett flertal nya kolumner med rätt data i varje. "
   ]
  },
  {
   "cell_type": "code",
   "execution_count": 14,
   "metadata": {},
   "outputs": [
    {
     "name": "stdout",
     "output_type": "stream",
     "text": [
      "['2001 (X reg)', 'Convertible', '14,400 miles', '4.9L', '225BHP', 'Manual', 'Petrol', '5 owners']\n",
      "['2001 (X reg)', 'Convertible', '14,400 miles', '4.9L', '225BHP', 'Manual', 'Petrol', '5 owners']\n",
      "['2019 (T reg)', 'Convertible', '650 miles', 'Manual', 'Petrol']\n"
     ]
    },
    {
     "ename": "IndexError",
     "evalue": "list index out of range",
     "output_type": "error",
     "traceback": [
      "\u001b[0;31m---------------------------------------------------------------------------\u001b[0m",
      "\u001b[0;31mIndexError\u001b[0m                                Traceback (most recent call last)",
      "Cell \u001b[0;32mIn [14], line 19\u001b[0m\n\u001b[1;32m     17\u001b[0m engine_size\u001b[39m.\u001b[39mappend(data[\u001b[39m3\u001b[39m])\n\u001b[1;32m     18\u001b[0m bhp\u001b[39m.\u001b[39mappend(data[\u001b[39m4\u001b[39m])\n\u001b[0;32m---> 19\u001b[0m transmission\u001b[39m.\u001b[39mappend(data[\u001b[39m5\u001b[39;49m])\n\u001b[1;32m     20\u001b[0m fuel\u001b[39m.\u001b[39mappend(data[\u001b[39m6\u001b[39m])\n\u001b[1;32m     21\u001b[0m owners\u001b[39m.\u001b[39mappend(data[\u001b[39m7\u001b[39m])\n",
      "\u001b[0;31mIndexError\u001b[0m: list index out of range"
     ]
    }
   ],
   "source": [
    "# Define some lists\n",
    "year = []\n",
    "body = []\n",
    "miles = []\n",
    "engine_size = []\n",
    "bhp = []\n",
    "transmission = []\n",
    "fuel = []\n",
    "owners = []\n",
    "\n",
    "for x in range(0, 5):\n",
    "    data = carData[\"car_specs\"][x].split(\", \")\n",
    "    print(data)\n",
    "    year.append(data[0])\n",
    "    body.append(data[1])\n",
    "    miles.append(data[2])\n",
    "    engine_size.append(data[3])\n",
    "    bhp.append(data[4])\n",
    "    transmission.append(data[5])\n",
    "    fuel.append(data[6])\n",
    "    owners.append(data[7])\n",
    "    \n",
    "print(year, body)"
   ]
  },
  {
   "cell_type": "markdown",
   "metadata": {},
   "source": [
    "Här stöter jag direkt på patrull. Det visar sig att all data inte alltid är ifylld vilket innebär att min korta test loop kraschar då jag hårdkodat vilket list element som skall flyttas till sin lista.\\\n",
    "Min plan nu är att jag skall med hjälpa av RegEx utryck försöka sortera datan efter bästa förmåga, om inte det finns data skall en jag skicka med tex 0 eller en tom string där det saknas data. "
   ]
  },
  {
   "cell_type": "code",
   "execution_count": 15,
   "metadata": {},
   "outputs": [],
   "source": [
    "import re # RegEx"
   ]
  },
  {
   "cell_type": "code",
   "execution_count": 33,
   "metadata": {},
   "outputs": [
    {
     "name": "stdout",
     "output_type": "stream",
     "text": [
      "Found nothing\n",
      "2001\n"
     ]
    }
   ],
   "source": [
    "yearRE = \"200\"\n",
    "test = re.search(\"\\d{4}\",yearRE)\n",
    "if test:\n",
    "    print(test.group())\n",
    "else:\n",
    "    print(\"Found nothing\")\n",
    "    \n",
    "yearRE = \"2001 (X reg)\"\n",
    "test = re.search(\"\\d{4}\",yearRE)\n",
    "if test:\n",
    "    print(test.group())\n",
    "else:\n",
    "    print(\"Found nothing\")"
   ]
  }
 ],
 "metadata": {
  "kernelspec": {
   "display_name": "Python 3.10.6 ('.env': venv)",
   "language": "python",
   "name": "python3"
  },
  "language_info": {
   "codemirror_mode": {
    "name": "ipython",
    "version": 3
   },
   "file_extension": ".py",
   "mimetype": "text/x-python",
   "name": "python",
   "nbconvert_exporter": "python",
   "pygments_lexer": "ipython3",
   "version": "3.10.6"
  },
  "orig_nbformat": 4,
  "vscode": {
   "interpreter": {
    "hash": "d111beb4a5bda5554f48c8e475272367356cf88bb278f51b9503c8e6626ea01c"
   }
  }
 },
 "nbformat": 4,
 "nbformat_minor": 2
}
